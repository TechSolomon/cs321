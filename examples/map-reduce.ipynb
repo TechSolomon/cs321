{
 "cells": [
  {
   "cell_type": "markdown",
   "metadata": {},
   "source": [
    "## CS 321: Word Count via [MapReduce](https://research.google/pubs/pub62/) Algorithm\n",
    "###### Solomon Himelbloom (2022-04-06)"
   ]
  },
  {
   "cell_type": "code",
   "execution_count": 37,
   "metadata": {},
   "outputs": [
    {
     "name": "stdout",
     "output_type": "stream",
     "text": [
      "CS 321: Class Example\n"
     ]
    }
   ],
   "source": [
    "sample = \"The quick brown fox jumps over the lazy dog.\"\n",
    "\n",
    "example = [\n",
    "    \"\"\"\n",
    "    This is the OS course. \n",
    "    We learn about Operating Systems in this course.\n",
    "    Another part of the OS course is an introduction to Linux.\n",
    "    Operating systems with more words about OS here.\n",
    "    Learning about hash tables in the OS course.\n",
    "    More about OS and Map Reduce in the OS course.\n",
    "    This course is about Operating Systems, also known as OS.\n",
    "    \"\"\"\n",
    "]\n",
    "\n",
    "print(\"CS 321: Class Example\")"
   ]
  },
  {
   "cell_type": "code",
   "execution_count": 38,
   "metadata": {},
   "outputs": [],
   "source": [
    "# Word Count\n",
    "def count_words(text):\n",
    "    counts = dict()\n",
    "    for word in text.split():\n",
    "        if word in counts:\n",
    "            counts[word] += 1\n",
    "        else:\n",
    "            counts[word] = 1\n",
    "    return counts"
   ]
  },
  {
   "cell_type": "code",
   "execution_count": 39,
   "metadata": {},
   "outputs": [
    {
     "name": "stdout",
     "output_type": "stream",
     "text": [
      "Initial Word Count: {'This': 2, 'is': 3, 'the': 4, 'OS': 6, 'course.': 4, 'We': 1, 'learn': 1, 'about': 5, 'Operating': 3, 'Systems': 1, 'in': 3, 'this': 1, 'Another': 1, 'part': 1, 'of': 1, 'course': 2, 'an': 1, 'introduction': 1, 'to': 1, 'Linux.': 1, 'systems': 1, 'with': 1, 'more': 1, 'words': 1, 'here.': 1, 'Learning': 1, 'hash': 1, 'tables': 1, 'More': 1, 'and': 1, 'Map': 1, 'Reduce': 1, 'Systems,': 1, 'also': 1, 'known': 1, 'as': 1, 'OS.': 1}\n"
     ]
    }
   ],
   "source": [
    "initial = count_words(example[0])\n",
    "\n",
    "print(\"Initial Word Count: \" + str(initial))\n",
    "\n",
    "# TODO: Strip special characters and punctuation from the text."
   ]
  }
 ],
 "metadata": {
  "interpreter": {
   "hash": "b460384b52104c1e5b9cf54bee46a255d22b2bef338f75ac4ad5d48196028d3c"
  },
  "kernelspec": {
   "display_name": "Python 3.10.2 64-bit",
   "language": "python",
   "name": "python3"
  },
  "language_info": {
   "codemirror_mode": {
    "name": "ipython",
    "version": 3
   },
   "file_extension": ".py",
   "mimetype": "text/x-python",
   "name": "python",
   "nbconvert_exporter": "python",
   "pygments_lexer": "ipython3",
   "version": "3.10.2"
  },
  "orig_nbformat": 4
 },
 "nbformat": 4,
 "nbformat_minor": 2
}
